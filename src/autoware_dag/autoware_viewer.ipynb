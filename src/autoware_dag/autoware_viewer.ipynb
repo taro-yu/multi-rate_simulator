{
 "cells": [
  {
   "cell_type": "code",
   "execution_count": null,
   "metadata": {},
   "outputs": [
    {
     "ename": "ModuleNotFoundError",
     "evalue": "No module named 'yaml_dag_reader'",
     "output_type": "error",
     "traceback": [
      "\u001b[0;31m---------------------------------------------------------------------------\u001b[0m",
      "\u001b[0;31mModuleNotFoundError\u001b[0m                       Traceback (most recent call last)",
      "Cell \u001b[0;32mIn[3], line 3\u001b[0m\n\u001b[1;32m      1\u001b[0m \u001b[38;5;28;01mimport\u001b[39;00m \u001b[38;5;21;01mmatplotlib\u001b[39;00m\u001b[38;5;21;01m.\u001b[39;00m\u001b[38;5;21;01mpyplot\u001b[39;00m \u001b[38;5;28;01mas\u001b[39;00m \u001b[38;5;21;01mplt\u001b[39;00m\n\u001b[1;32m      2\u001b[0m \u001b[38;5;28;01mimport\u001b[39;00m \u001b[38;5;21;01mnetworkx\u001b[39;00m \u001b[38;5;28;01mas\u001b[39;00m \u001b[38;5;21;01mnx\u001b[39;00m\n\u001b[0;32m----> 3\u001b[0m \u001b[38;5;28;01mfrom\u001b[39;00m \u001b[38;5;21;01myaml_dag_reader\u001b[39;00m \u001b[38;5;28;01mimport\u001b[39;00m YamlDagReader  \u001b[38;5;66;03m# あなたのクラスファイルをyaml_dag_reader.pyと仮定\u001b[39;00m\n\u001b[1;32m      5\u001b[0m file_path \u001b[38;5;241m=\u001b[39m \u001b[38;5;124m\"\u001b[39m\u001b[38;5;124m/home/yutaro/wd/multi-rate_simulator/src/autoware_dag.yaml\u001b[39m\u001b[38;5;124m\"\u001b[39m\n\u001b[1;32m      9\u001b[0m \u001b[38;5;28;01mdef\u001b[39;00m \u001b[38;5;21mvisualize_dag\u001b[39m(file_path):\n",
      "\u001b[0;31mModuleNotFoundError\u001b[0m: No module named 'yaml_dag_reader'"
     ]
    }
   ],
   "source": [
    "import matplotlib.pyplot as plt\n",
    "import networkx as nx\n",
    "from yaml_dag_reader import YamlDagReader  # あなたのクラスファイルをyaml_dag_reader.pyと仮定\n",
    "\n",
    "file_path = \"/home/yutaro/wd/multi-rate_simulator/src/autoware_dag.yaml\"\n",
    "\n",
    "\n",
    "\n",
    "def visualize_dag(file_path):\n",
    "    reader = YamlDagReader(file_path)\n",
    "    wcets, edges, deadline, k_parallel, index, periods, seeds = reader.read()\n",
    "\n",
    "    # DAGの生成\n",
    "    G = nx.DiGraph()\n",
    "    for node_id in index:\n",
    "        G.add_node(node_id, wcet=wcets[node_id], k=k_parallel[node_id], period=periods[node_id])\n",
    "\n",
    "    for src, tgt in edges:\n",
    "        G.add_edge(src, tgt)\n",
    "\n",
    "    # 可視化の設定\n",
    "    pos = nx.nx_pydot.graphviz_layout(G, prog='dot')  # 上から下のレイアウト\n",
    "    plt.figure(figsize=(16, 10))\n",
    "\n",
    "    # ノードの描画\n",
    "    nx.draw_networkx_nodes(G, pos, node_size=700, node_color='lightblue')\n",
    "    nx.draw_networkx_labels(G, pos, labels={i: f'{i}' for i in index}, font_size=12)\n",
    "\n",
    "    # エッジの描画\n",
    "    nx.draw_networkx_edges(G, pos, arrowstyle='->', arrowsize=20, edge_color='gray')\n",
    "\n",
    "    plt.title(\"DAG Visualization\", fontsize=16)\n",
    "    plt.axis('off')\n",
    "    plt.tight_layout()\n",
    "    plt.show()\n",
    "\n",
    "# 使用例\n",
    "visualize_dag(\"your_dag_file.yaml\")\n"
   ]
  }
 ],
 "metadata": {
  "kernelspec": {
   "display_name": "Python 3",
   "language": "python",
   "name": "python3"
  },
  "language_info": {
   "codemirror_mode": {
    "name": "ipython",
    "version": 3
   },
   "file_extension": ".py",
   "mimetype": "text/x-python",
   "name": "python",
   "nbconvert_exporter": "python",
   "pygments_lexer": "ipython3",
   "version": "3.10.12"
  }
 },
 "nbformat": 4,
 "nbformat_minor": 2
}
